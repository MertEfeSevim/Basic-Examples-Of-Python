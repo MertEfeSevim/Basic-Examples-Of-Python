{
 "cells": [
  {
   "cell_type": "markdown",
   "metadata": {
    "collapsed": true
   },
   "source": [
    "#Numpy nedir?\n",
    "Başlangıçta Jim Hugunin tarafından çeşitli geliştiricilerin katkılarıyla oluşturuldu. 2005 yılında Travis Oliphant rakibi olan Numarray'in özelliklerini Numeric'e kapsamlı değişikliklerle dahil ederek NumPy'yi yarattı. NumPy, açık kaynaklı bir yazılımdır ve birçok katkıda bulunulmaktadır.\n",
    "\n",
    "NumPy bilimsel ölçümler için temel bir Python paketi olmasının yanında. Diğer şeylerin yanı sıra aşağıdakileri de içerir:\n",
    "\n",
    "<ol>\n",
    "  <li>Güçlü bir N-boyutlu dizi nesnesi.</li>\n",
    "  <li>Sofistike (yayıncılık) fonksiyonlar.</li>\n",
    "  <li>C / C ++ ve Fortran kodunu bütünleştirme araçları.</li>\n",
    "  <li>Kullanışlı doğrusal cebir, Fourier dönüşümü ve rasgele sayı yetenekleri.</li>\n",
    "  <li>Keyfi veri türleri tanımlanabilir. Bu, NumPy'nin çok çeşitli veritabanlarıyla kesintisiz ve hızlı bir şekilde entegre olmasını sağlar.</li>\n",
    "</ol>\n",
    "\n",
    "##Nasıl yüklenir?\n",
    "\n",
    "<ol>\n",
    "  <li>En son sürüm NumPy ve SciPy paketlerini yüklemek için;</li>\n",
    "  <p>git clone https://github.com/numpy/numpy.git numpy</p>\n",
    "  <p>git clone https://github.com/scipy/scipy.git</p>\n",
    "  <li>İnen setup.py dosyalarını kurmak için;</li>\n",
    "  <p>python setup.py build</p>\n",
    "  <p>python setup.py install</p>\n",
    "  <li>Eğer PyCharm kullanıyorsanız, \"import numpy\" çıkan kırmızı lamba ile otomatik yükletebilirsiniz.</li>\n",
    "</ol>\n",
    "\n",
    "<p></p>"
   ]
  },
  {
   "cell_type": "markdown",
   "metadata": {},
   "source": [
    "#Basit İşlemler"
   ]
  },
  {
   "cell_type": "code",
   "execution_count": 3,
   "metadata": {},
   "outputs": [],
   "source": [
    "from numpy import *\n",
    "\n",
    "a = array([1,2,3,4])\n",
    "b = array((2,3,4,5))"
   ]
  },
  {
   "cell_type": "code",
   "execution_count": 8,
   "metadata": {
    "collapsed": false
   },
   "outputs": [
    {
     "data": {
      "text/plain": [
       "(array([3, 5, 7, 9]),\n array([ 2,  6, 12, 20]),\n array([   1,    8,   81, 1024]),\n array([ 0.5       ,  0.66666667,  0.75      ,  0.8       ]))"
      ]
     },
     "execution_count": 8,
     "metadata": {},
     "output_type": "execute_result"
    }
   ],
   "source": [
    "a+b,a*b,a**b,a/b"
   ]
  },
  {
   "cell_type": "code",
   "execution_count": 12,
   "metadata": {},
   "outputs": [
    {
     "data": {
      "text/plain": [
       "(array([ 0.84147098,  0.90929743,  0.14112001, -0.7568025 ]),\n array([-0.41614684, -0.9899925 , -0.65364362,  0.28366219]))"
      ]
     },
     "execution_count": 12,
     "metadata": {},
     "output_type": "execute_result"
    }
   ],
   "source": [
    "sin(a) , cos(b)"
   ]
  },
  {
   "cell_type": "markdown",
   "metadata": {},
   "source": [
    "#Matplotlib\n",
    "\n",
    "Değerlerimizi daha iyi görmemizi sağlayacak bir kütüphane daha."
   ]
  },
  {
   "cell_type": "code",
   "execution_count": 19,
   "metadata": {
    "collapsed": false
   },
   "outputs": [
    {
     "data": {
      "text/plain": [
       "[<matplotlib.lines.Line2D at 0x10849aa90>]"
      ]
     },
     "execution_count": 19,
     "metadata": {},
     "output_type": "execute_result"
    }
   ],
   "source": [
    "import matplotlib.pyplot as plt\n",
    "\n",
    "plt.plot(a,b)"
   ]
  },
  {
   "cell_type": "code",
   "execution_count": null,
   "metadata": {},
   "outputs": [],
   "source": [
    ""
   ]
  }
 ],
 "metadata": {
  "kernelspec": {
   "display_name": "Python 2",
   "language": "python",
   "name": "python2"
  },
  "language_info": {
   "codemirror_mode": {
    "name": "ipython",
    "version": 2.0
   },
   "file_extension": ".py",
   "mimetype": "text/x-python",
   "name": "python",
   "nbconvert_exporter": "python",
   "pygments_lexer": "ipython2",
   "version": "2.7.6"
  }
 },
 "nbformat": 4,
 "nbformat_minor": 0
}